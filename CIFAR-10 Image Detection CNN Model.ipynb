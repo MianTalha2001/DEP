{
 "cells": [
  {
   "cell_type": "code",
   "execution_count": 2,
   "id": "ff093d35-3dbd-45d0-8604-f084effe11ef",
   "metadata": {},
   "outputs": [],
   "source": [
    "import numpy as np\n",
    "import matplotlib.pyplot as plt\n",
    "import tensorflow as tf\n",
    "from tensorflow.keras import datasets, layers, models\n",
    "from sklearn.metrics import classification_report "
   ]
  },
  {
   "cell_type": "code",
   "execution_count": 3,
   "id": "38913366-4209-444f-94fa-f1766a658529",
   "metadata": {},
   "outputs": [
    {
     "name": "stdout",
     "output_type": "stream",
     "text": [
      "Downloading data from https://www.cs.toronto.edu/~kriz/cifar-10-python.tar.gz\n",
      "170498071/170498071 [==============================] - 64s 0us/step\n"
     ]
    }
   ],
   "source": [
    "(X_train, Y_train), (X_test, Y_test) = datasets.cifar10.load_data()"
   ]
  },
  {
   "cell_type": "code",
   "execution_count": 4,
   "id": "41472271-841c-4107-ac42-16bd6f527f29",
   "metadata": {},
   "outputs": [
    {
     "name": "stdout",
     "output_type": "stream",
     "text": [
      "X_train shape: (50000, 32, 32, 3)\n",
      "Y_train shape: (50000, 1)\n",
      "X_test shape: (10000, 32, 32, 3)\n",
      "Y_test shape: (10000, 1)\n"
     ]
    }
   ],
   "source": [
    "# Check the shape of the data\n",
    "print('X_train shape:', X_train.shape)\n",
    "print('Y_train shape:', Y_train.shape)\n",
    "print('X_test shape:', X_test.shape)\n",
    "print('Y_test shape:', Y_test.shape)"
   ]
  },
  {
   "cell_type": "code",
   "execution_count": 5,
   "id": "a8e43e01-4405-453b-a1be-8ba6c0538cc7",
   "metadata": {},
   "outputs": [
    {
     "data": {
      "text/plain": [
       "array([[6],\n",
       "       [9],\n",
       "       [9],\n",
       "       [4],\n",
       "       [1]], dtype=uint8)"
      ]
     },
     "execution_count": 5,
     "metadata": {},
     "output_type": "execute_result"
    }
   ],
   "source": [
    "Y_train[:5]"
   ]
  },
  {
   "cell_type": "code",
   "execution_count": 6,
   "id": "1b18be4d-d4c5-4d29-874d-745c1a5f5b4f",
   "metadata": {},
   "outputs": [],
   "source": [
    "Y_train = Y_train.reshape(-1,)\n",
    "Y_test = Y_test.reshape(-1,)"
   ]
  },
  {
   "cell_type": "code",
   "execution_count": 7,
   "id": "b42086b8-69bd-462c-a895-836f4bd8a9c2",
   "metadata": {},
   "outputs": [
    {
     "data": {
      "text/plain": [
       "array([6, 9, 9, 4, 1], dtype=uint8)"
      ]
     },
     "execution_count": 7,
     "metadata": {},
     "output_type": "execute_result"
    }
   ],
   "source": [
    "Y_train[:5]"
   ]
  },
  {
   "cell_type": "code",
   "execution_count": 8,
   "id": "39bed482-a9ea-4952-8670-7ba95626611b",
   "metadata": {},
   "outputs": [
    {
     "data": {
      "text/plain": [
       "array([3, 8, 8, 0, 6], dtype=uint8)"
      ]
     },
     "execution_count": 8,
     "metadata": {},
     "output_type": "execute_result"
    }
   ],
   "source": [
    "Y_test[:5]"
   ]
  },
  {
   "cell_type": "code",
   "execution_count": 9,
   "id": "ca733417-fffc-4d26-a636-f58d8d99c26c",
   "metadata": {},
   "outputs": [
    {
     "data": {
      "text/plain": [
       "array([[[ 28,  35,  39],\n",
       "        [ 30,  34,  44],\n",
       "        [ 33,  44,  47],\n",
       "        ...,\n",
       "        [ 43,  56,  45],\n",
       "        [ 52,  64,  53],\n",
       "        [ 46,  58,  47]],\n",
       "\n",
       "       [[ 27,  30,  38],\n",
       "        [ 27,  28,  41],\n",
       "        [ 21,  31,  39],\n",
       "        ...,\n",
       "        [112, 136,  97],\n",
       "        [117, 140, 101],\n",
       "        [115, 138, 100]],\n",
       "\n",
       "       [[ 34,  36,  42],\n",
       "        [ 33,  33,  43],\n",
       "        [ 24,  30,  40],\n",
       "        ...,\n",
       "        [175, 208, 143],\n",
       "        [177, 209, 144],\n",
       "        [176, 208, 143]],\n",
       "\n",
       "       ...,\n",
       "\n",
       "       [[142, 176, 118],\n",
       "        [142, 176, 118],\n",
       "        [150, 184, 127],\n",
       "        ...,\n",
       "        [134, 175, 119],\n",
       "        [128, 168, 112],\n",
       "        [134, 175, 119]],\n",
       "\n",
       "       [[140, 176, 124],\n",
       "        [145, 180, 129],\n",
       "        [150, 186, 134],\n",
       "        ...,\n",
       "        [131, 170, 119],\n",
       "        [130, 170, 119],\n",
       "        [122, 162, 111]],\n",
       "\n",
       "       [[134, 171, 123],\n",
       "        [136, 171, 124],\n",
       "        [136, 171, 124],\n",
       "        ...,\n",
       "        [106, 144, 100],\n",
       "        [104, 142,  99],\n",
       "        [101, 140,  96]]], dtype=uint8)"
      ]
     },
     "execution_count": 9,
     "metadata": {},
     "output_type": "execute_result"
    }
   ],
   "source": [
    "X_train[7]"
   ]
  },
  {
   "cell_type": "code",
   "execution_count": 10,
   "id": "a2622d87-579f-4ccc-8c81-8dd997c200a6",
   "metadata": {},
   "outputs": [
    {
     "data": {
      "text/plain": [
       "array([3, 8, 8, 0], dtype=uint8)"
      ]
     },
     "execution_count": 10,
     "metadata": {},
     "output_type": "execute_result"
    }
   ],
   "source": [
    "Y_test[:4]"
   ]
  },
  {
   "cell_type": "code",
   "execution_count": 11,
   "id": "40957617-6f9c-4020-84a5-fef0fc0d6f39",
   "metadata": {},
   "outputs": [],
   "source": [
    "classes = ['airplane', 'automobile', 'bird', 'cat', 'deer', 'dog', 'frog', 'horse', 'ship', 'truck']"
   ]
  },
  {
   "cell_type": "code",
   "execution_count": 12,
   "id": "ae511d98-b3dc-428a-8cb5-13a3b11fdf73",
   "metadata": {},
   "outputs": [
    {
     "data": {
      "text/plain": [
       "'truck'"
      ]
     },
     "execution_count": 12,
     "metadata": {},
     "output_type": "execute_result"
    }
   ],
   "source": [
    "classes[9]"
   ]
  },
  {
   "cell_type": "code",
   "execution_count": 13,
   "id": "1210b61f-f50f-4d53-b5ee-32e775949153",
   "metadata": {},
   "outputs": [],
   "source": [
    "def plot_sample(X, Y, index):\n",
    "    plt.figure(figsize = (15,2))\n",
    "    plt.imshow(X[index])\n",
    "    plt.xlabel(classes[Y[index]])"
   ]
  },
  {
   "cell_type": "code",
   "execution_count": 14,
   "id": "ba81a49a-9fad-4e4c-b53e-70a9b2865022",
   "metadata": {},
   "outputs": [
    {
     "data": {
      "text/plain": [
       "array([[[ 28,  25,  10],\n",
       "        [ 37,  34,  19],\n",
       "        [ 38,  35,  20],\n",
       "        ...,\n",
       "        [ 76,  67,  39],\n",
       "        [ 81,  72,  43],\n",
       "        [ 85,  76,  47]],\n",
       "\n",
       "       [[ 33,  28,  13],\n",
       "        [ 34,  30,  14],\n",
       "        [ 32,  27,  12],\n",
       "        ...,\n",
       "        [ 95,  82,  55],\n",
       "        [ 96,  82,  56],\n",
       "        [ 85,  72,  45]],\n",
       "\n",
       "       [[ 39,  32,  15],\n",
       "        [ 40,  33,  17],\n",
       "        [ 57,  50,  33],\n",
       "        ...,\n",
       "        [ 93,  76,  52],\n",
       "        [107,  89,  66],\n",
       "        [ 95,  77,  54]],\n",
       "\n",
       "       ...,\n",
       "\n",
       "       [[ 83,  73,  52],\n",
       "        [ 87,  77,  56],\n",
       "        [ 84,  74,  52],\n",
       "        ...,\n",
       "        [ 99,  93,  70],\n",
       "        [ 90,  84,  61],\n",
       "        [ 81,  75,  52]],\n",
       "\n",
       "       [[ 88,  72,  51],\n",
       "        [ 90,  74,  52],\n",
       "        [ 93,  77,  56],\n",
       "        ...,\n",
       "        [ 80,  74,  53],\n",
       "        [ 76,  70,  49],\n",
       "        [ 82,  76,  55]],\n",
       "\n",
       "       [[ 97,  78,  56],\n",
       "        [ 94,  75,  53],\n",
       "        [ 93,  75,  53],\n",
       "        ...,\n",
       "        [ 54,  47,  28],\n",
       "        [ 63,  56,  37],\n",
       "        [ 72,  65,  46]]], dtype=uint8)"
      ]
     },
     "execution_count": 14,
     "metadata": {},
     "output_type": "execute_result"
    }
   ],
   "source": [
    "X_train[3]"
   ]
  },
  {
   "cell_type": "code",
   "execution_count": 15,
   "id": "ae906bf2-1e2d-46a2-a866-e4cf508d727d",
   "metadata": {},
   "outputs": [
    {
     "data": {
      "image/png": "[encoded data removed]",
      "text/plain": [
       "<Figure size 1500x200 with 1 Axes>"
      ]
     },
     "metadata": {},
     "output_type": "display_data"
    }
   ],
   "source": [
    "plot_sample(X_train, Y_train, 3)"
   ]
  },
  {
   "cell_type": "code",
   "execution_count": 16,
   "id": "f75c51a0-2278-4a8b-a490-94d677e73969",
   "metadata": {},
   "outputs": [
    {
     "data": {
      "image/png": "[encoded data removed]",
      "text/plain": [
       "<Figure size 1500x200 with 1 Axes>"
      ]
     },
     "metadata": {},
     "output_type": "display_data"
    }
   ],
   "source": [
    "plot_sample(X_train, Y_train, 14)"
   ]
  },
  {
   "cell_type": "markdown",
   "id": "779f9945-964d-4021-9fc6-dfe118dece94",
   "metadata": {},
   "source": [
    "# # Normalize pixel values to be between 0 and 1"
   ]
  },
  {
   "cell_type": "code",
   "execution_count": 17,
   "id": "546a4fd7-83cd-4746-a071-1198c097155b",
   "metadata": {},
   "outputs": [],
   "source": [
    "X_train, X_test = X_train / 255.0, X_test / 255.0"
   ]
  },
  {
   "cell_type": "code",
   "execution_count": 18,
   "id": "9fd63b97-e900-4ec8-831d-e5908fe8d740",
   "metadata": {},
   "outputs": [
    {
     "data": {
      "text/plain": [
       "array([[[0.10980392, 0.09803922, 0.03921569],\n",
       "        [0.14509804, 0.13333333, 0.0745098 ],\n",
       "        [0.14901961, 0.1372549 , 0.07843137],\n",
       "        ...,\n",
       "        [0.29803922, 0.2627451 , 0.15294118],\n",
       "        [0.31764706, 0.28235294, 0.16862745],\n",
       "        [0.33333333, 0.29803922, 0.18431373]],\n",
       "\n",
       "       [[0.12941176, 0.10980392, 0.05098039],\n",
       "        [0.13333333, 0.11764706, 0.05490196],\n",
       "        [0.1254902 , 0.10588235, 0.04705882],\n",
       "        ...,\n",
       "        [0.37254902, 0.32156863, 0.21568627],\n",
       "        [0.37647059, 0.32156863, 0.21960784],\n",
       "        [0.33333333, 0.28235294, 0.17647059]],\n",
       "\n",
       "       [[0.15294118, 0.1254902 , 0.05882353],\n",
       "        [0.15686275, 0.12941176, 0.06666667],\n",
       "        [0.22352941, 0.19607843, 0.12941176],\n",
       "        ...,\n",
       "        [0.36470588, 0.29803922, 0.20392157],\n",
       "        [0.41960784, 0.34901961, 0.25882353],\n",
       "        [0.37254902, 0.30196078, 0.21176471]],\n",
       "\n",
       "       ...,\n",
       "\n",
       "       [[0.3254902 , 0.28627451, 0.20392157],\n",
       "        [0.34117647, 0.30196078, 0.21960784],\n",
       "        [0.32941176, 0.29019608, 0.20392157],\n",
       "        ...,\n",
       "        [0.38823529, 0.36470588, 0.2745098 ],\n",
       "        [0.35294118, 0.32941176, 0.23921569],\n",
       "        [0.31764706, 0.29411765, 0.20392157]],\n",
       "\n",
       "       [[0.34509804, 0.28235294, 0.2       ],\n",
       "        [0.35294118, 0.29019608, 0.20392157],\n",
       "        [0.36470588, 0.30196078, 0.21960784],\n",
       "        ...,\n",
       "        [0.31372549, 0.29019608, 0.20784314],\n",
       "        [0.29803922, 0.2745098 , 0.19215686],\n",
       "        [0.32156863, 0.29803922, 0.21568627]],\n",
       "\n",
       "       [[0.38039216, 0.30588235, 0.21960784],\n",
       "        [0.36862745, 0.29411765, 0.20784314],\n",
       "        [0.36470588, 0.29411765, 0.20784314],\n",
       "        ...,\n",
       "        [0.21176471, 0.18431373, 0.10980392],\n",
       "        [0.24705882, 0.21960784, 0.14509804],\n",
       "        [0.28235294, 0.25490196, 0.18039216]]])"
      ]
     },
     "execution_count": 18,
     "metadata": {},
     "output_type": "execute_result"
    }
   ],
   "source": [
    "X_train[3]"
   ]
  },
  {
   "cell_type": "code",
   "execution_count": 19,
   "id": "63368610-485d-4e10-95fa-fa702aafda53",
   "metadata": {},
   "outputs": [],
   "source": [
    "model = models.Sequential()\n",
    "model.add(layers.Conv2D(32, (3, 3), activation='relu', input_shape=(32, 32, 3)))\n",
    "model.add(layers.MaxPooling2D((2, 2)))\n",
    "\n",
    "model.add(layers.Conv2D(64, (3, 3), activation='relu'))\n",
    "model.add(layers.MaxPooling2D((2, 2)))\n",
    "\n",
    "model.add(layers.Conv2D(128, (3, 3), activation='relu'))\n",
    "model.add(layers.MaxPooling2D((2, 2)))\n",
    "\n",
    "# Flattening \n",
    "model.add(layers.Flatten())\n",
    "# Fully Connected (Dense) Layer\n",
    "model.add(layers.Dense(64, activation='relu'))\n",
    "# Output Layer with 10 classes (for CIFAR-10)\n",
    "model.add(layers.Dense(10, activation='softmax'))"
   ]
  },
  {
   "cell_type": "code",
   "execution_count": 20,
   "id": "6d247e62-dc10-4233-bfeb-51c3d54806c3",
   "metadata": {},
   "outputs": [],
   "source": [
    "model.compile(optimizer='adam',\n",
    "              loss='sparse_categorical_crossentropy',\n",
    "              metrics=['accuracy'])"
   ]
  },
  {
   "cell_type": "code",
   "execution_count": 21,
   "id": "a5fbe2bc-7928-4f3b-aa8e-f619a0fb9335",
   "metadata": {},
   "outputs": [
    {
     "name": "stdout",
     "output_type": "stream",
     "text": [
      "Epoch 1/10\n",
      "1407/1407 [==============================] - 28s 19ms/step - loss: 1.5388 - accuracy: 0.4363 - val_loss: 1.2702 - val_accuracy: 0.5370\n",
      "Epoch 2/10\n",
      "1407/1407 [==============================] - 28s 20ms/step - loss: 1.1661 - accuracy: 0.5851 - val_loss: 1.0911 - val_accuracy: 0.6244\n",
      "Epoch 3/10\n",
      "1407/1407 [==============================] - 28s 20ms/step - loss: 1.0060 - accuracy: 0.6476 - val_loss: 0.9695 - val_accuracy: 0.6724\n",
      "Epoch 4/10\n",
      "1407/1407 [==============================] - 28s 20ms/step - loss: 0.8991 - accuracy: 0.6845 - val_loss: 0.9174 - val_accuracy: 0.6824\n",
      "Epoch 5/10\n",
      "1407/1407 [==============================] - 29s 20ms/step - loss: 0.8141 - accuracy: 0.7191 - val_loss: 0.8409 - val_accuracy: 0.7064\n",
      "Epoch 6/10\n",
      "1407/1407 [==============================] - 26s 19ms/step - loss: 0.7477 - accuracy: 0.7416 - val_loss: 0.8495 - val_accuracy: 0.7088\n",
      "Epoch 7/10\n",
      "1407/1407 [==============================] - 37s 26ms/step - loss: 0.6945 - accuracy: 0.7602 - val_loss: 0.8346 - val_accuracy: 0.7148\n",
      "Epoch 8/10\n",
      "1407/1407 [==============================] - 29s 20ms/step - loss: 0.6440 - accuracy: 0.7753 - val_loss: 0.8939 - val_accuracy: 0.7048\n",
      "Epoch 9/10\n",
      "1407/1407 [==============================] - 32s 22ms/step - loss: 0.5961 - accuracy: 0.7891 - val_loss: 0.8277 - val_accuracy: 0.7236\n",
      "Epoch 10/10\n",
      "1407/1407 [==============================] - 31s 22ms/step - loss: 0.5581 - accuracy: 0.8046 - val_loss: 0.8916 - val_accuracy: 0.7076\n"
     ]
    },
    {
     "data": {
      "text/plain": [
       "<keras.callbacks.History at 0x1431defb7f0>"
      ]
     },
     "execution_count": 21,
     "metadata": {},
     "output_type": "execute_result"
    }
   ],
   "source": [
    "model.fit(X_train, Y_train, epochs=10, validation_split=0.1)"
   ]
  },
  {
   "cell_type": "code",
   "execution_count": 23,
   "id": "3da52180-f381-496c-8e6f-3e0dc5698657",
   "metadata": {},
   "outputs": [
    {
     "name": "stdout",
     "output_type": "stream",
     "text": [
      "313/313 - 3s - loss: 0.9391 - accuracy: 0.7021 - 3s/epoch - 8ms/step\n",
      "Test accuracy: 0.7021\n",
      "Test loss: 0.9391\n"
     ]
    }
   ],
   "source": [
    "# Evaluate the model on the test data\n",
    "test_loss, test_accuracy = model.evaluate(X_test, Y_test, verbose=2)\n",
    "\n",
    "# Print the results\n",
    "print(f'Test accuracy: {test_accuracy:.4f}')\n",
    "print(f'Test loss: {test_loss:.4f}')\n"
   ]
  },
  {
   "cell_type": "code",
   "execution_count": 29,
   "id": "c2575914-366c-4288-9e3c-75b6303e2b8f",
   "metadata": {},
   "outputs": [
    {
     "name": "stdout",
     "output_type": "stream",
     "text": [
      "313/313 [==============================] - 3s 10ms/step\n"
     ]
    }
   ],
   "source": [
    "# Predict the classes for the test data\n",
    "predictions = model.predict(X_test)\n",
    "\n",
    "# Convert probabilities to class labels\n",
    "predicted_classes = np.argmax(predictions, axis=1)\n"
   ]
  },
  {
   "cell_type": "code",
   "execution_count": 32,
   "id": "11f0235a-0544-417b-8f2c-10b96ada1c32",
   "metadata": {},
   "outputs": [
    {
     "name": "stdout",
     "output_type": "stream",
     "text": [
      "              precision    recall  f1-score   support\n",
      "\n",
      "    airplane       0.70      0.77      0.73      1000\n",
      "  automobile       0.74      0.89      0.81      1000\n",
      "        bird       0.73      0.43      0.54      1000\n",
      "         cat       0.58      0.45      0.51      1000\n",
      "        deer       0.67      0.65      0.66      1000\n",
      "         dog       0.62      0.63      0.63      1000\n",
      "        frog       0.62      0.89      0.73      1000\n",
      "       horse       0.78      0.71      0.74      1000\n",
      "        ship       0.78      0.84      0.80      1000\n",
      "       truck       0.81      0.75      0.78      1000\n",
      "\n",
      "    accuracy                           0.70     10000\n",
      "   macro avg       0.70      0.70      0.69     10000\n",
      "weighted avg       0.70      0.70      0.69     10000\n",
      "\n"
     ]
    }
   ],
   "source": [
    "print(classification_report(Y_test, predicted_classes, target_names=classes))"
   ]
  },
  {
   "cell_type": "code",
   "execution_count": 36,
   "id": "6823f28c-be44-42e3-ac02-e02d7a5d27f2",
   "metadata": {},
   "outputs": [
    {
     "data": {
      "image/png": "[encoded data removed]",
      "text/plain": [
       "<Figure size 1000x700 with 2 Axes>"
      ]
     },
     "metadata": {},
     "output_type": "display_data"
    }
   ],
   "source": [
    "from sklearn.metrics import confusion_matrix\n",
    "import seaborn as sns\n",
    "\n",
    "# Generate confusion matrix\n",
    "conf_matrix = confusion_matrix(Y_test, predicted_classes)\n",
    "\n",
    "# Plot confusion matrix\n",
    "plt.figure(figsize=(10, 7))\n",
    "sns.heatmap(conf_matrix, annot=True, fmt='d', cmap='Blues', xticklabels=classes, yticklabels=classes)\n",
    "plt.xlabel('Predicted')\n",
    "plt.ylabel('True')\n",
    "plt.title('Confusion Matrix')\n",
    "plt.show()\n"
   ]
  },
  {
   "cell_type": "code",
   "execution_count": null,
   "id": "63d7e686-e49f-4e31-b4bc-587c5263ddbe",
   "metadata": {},
   "outputs": [],
   "source": []
  }
 ],
 "metadata": {
  "kernelspec": {
   "display_name": "Python 3 (ipykernel)",
   "language": "python",
   "name": "python3"
  },
  "language_info": {
   "codemirror_mode": {
    "name": "ipython",
    "version": 3
   },
   "file_extension": ".py",
   "mimetype": "text/x-python",
   "name": "python",
   "nbconvert_exporter": "python",
   "pygments_lexer": "ipython3",
   "version": "3.10.13"
  }
 },
 "nbformat": 4,
 "nbformat_minor": 5
}
